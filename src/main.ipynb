{
 "cells": [
  {
   "cell_type": "code",
   "execution_count": null,
   "metadata": {
    "colab": {
     "base_uri": "https://localhost:8080/",
     "height": 846
    },
    "id": "OfcUl9-5notz",
    "outputId": "937784c4-3280-4f56-f819-d978ef688ab9"
   },
   "outputs": [
    {
     "name": "stdout",
     "output_type": "stream",
     "text": [
      "Current price of MSFT: 410.2900\n",
      "Current price of META: 565.5700\n",
      "Current price of AMZN: 197.0900\n",
      "Current price of AAPL: 222.6101\n",
      "Current price of AMZN: 197.0900\n",
      "Current price of META: 565.5700\n",
      "Current price of MSFT: 410.2900\n",
      "Current price of AAPL: 222.6101\n",
      "Current price of AMZN: 197.0900\n",
      "Current price of META: 565.5700\n",
      "Current price of AAPL: 222.6101\n",
      "Current price of MSFT: 410.2900\n",
      "Current price of AMZN: 197.0900\n",
      "Current price of META: 565.5700\n",
      "Current price of AAPL: 222.6101\n",
      "Current price of MSFT: 410.2900\n",
      "Current price of AMZN: 197.0900\n",
      "Current price of META: 565.5700\n",
      "Current price of AAPL: 222.6101\n",
      "Current price of MSFT: 410.2900\n",
      "Current price of AMZN: 197.0900\n",
      "Current price of META: 565.5700\n",
      "Current price of AAPL: 222.6101\n",
      "Current price of MSFT: 410.2900\n",
      "No data available for AAPL\n",
      "Current price of AMZN: 197.0900\n",
      "Current price of META: 565.5700\n",
      "No data available for MSFT\n"
     ]
    },
    {
     "ename": "KeyboardInterrupt",
     "evalue": "",
     "output_type": "error",
     "traceback": [
      "\u001b[0;31m---------------------------------------------------------------------------\u001b[0m",
      "\u001b[0;31mKeyboardInterrupt\u001b[0m                         Traceback (most recent call last)",
      "\u001b[0;32m<ipython-input-7-82d7591697e8>\u001b[0m in \u001b[0;36m<cell line: 35>\u001b[0;34m()\u001b[0m\n\u001b[1;32m     43\u001b[0m \u001b[0;34m\u001b[0m\u001b[0m\n\u001b[1;32m     44\u001b[0m     \u001b[0;32mfor\u001b[0m \u001b[0mt\u001b[0m \u001b[0;32min\u001b[0m \u001b[0mthreads\u001b[0m\u001b[0;34m:\u001b[0m\u001b[0;34m\u001b[0m\u001b[0;34m\u001b[0m\u001b[0m\n\u001b[0;32m---> 45\u001b[0;31m         \u001b[0mt\u001b[0m\u001b[0;34m.\u001b[0m\u001b[0mjoin\u001b[0m\u001b[0;34m(\u001b[0m\u001b[0;34m)\u001b[0m  \u001b[0;31m# Espera a que todos los hilos terminen\u001b[0m\u001b[0;34m\u001b[0m\u001b[0;34m\u001b[0m\u001b[0m\n\u001b[0m",
      "\u001b[0;32m/usr/lib/python3.10/threading.py\u001b[0m in \u001b[0;36mjoin\u001b[0;34m(self, timeout)\u001b[0m\n\u001b[1;32m   1094\u001b[0m \u001b[0;34m\u001b[0m\u001b[0m\n\u001b[1;32m   1095\u001b[0m         \u001b[0;32mif\u001b[0m \u001b[0mtimeout\u001b[0m \u001b[0;32mis\u001b[0m \u001b[0;32mNone\u001b[0m\u001b[0;34m:\u001b[0m\u001b[0;34m\u001b[0m\u001b[0;34m\u001b[0m\u001b[0m\n\u001b[0;32m-> 1096\u001b[0;31m             \u001b[0mself\u001b[0m\u001b[0;34m.\u001b[0m\u001b[0m_wait_for_tstate_lock\u001b[0m\u001b[0;34m(\u001b[0m\u001b[0;34m)\u001b[0m\u001b[0;34m\u001b[0m\u001b[0;34m\u001b[0m\u001b[0m\n\u001b[0m\u001b[1;32m   1097\u001b[0m         \u001b[0;32melse\u001b[0m\u001b[0;34m:\u001b[0m\u001b[0;34m\u001b[0m\u001b[0;34m\u001b[0m\u001b[0m\n\u001b[1;32m   1098\u001b[0m             \u001b[0;31m# the behavior of a negative timeout isn't documented, but\u001b[0m\u001b[0;34m\u001b[0m\u001b[0;34m\u001b[0m\u001b[0m\n",
      "\u001b[0;32m/usr/lib/python3.10/threading.py\u001b[0m in \u001b[0;36m_wait_for_tstate_lock\u001b[0;34m(self, block, timeout)\u001b[0m\n\u001b[1;32m   1114\u001b[0m \u001b[0;34m\u001b[0m\u001b[0m\n\u001b[1;32m   1115\u001b[0m         \u001b[0;32mtry\u001b[0m\u001b[0;34m:\u001b[0m\u001b[0;34m\u001b[0m\u001b[0;34m\u001b[0m\u001b[0m\n\u001b[0;32m-> 1116\u001b[0;31m             \u001b[0;32mif\u001b[0m \u001b[0mlock\u001b[0m\u001b[0;34m.\u001b[0m\u001b[0macquire\u001b[0m\u001b[0;34m(\u001b[0m\u001b[0mblock\u001b[0m\u001b[0;34m,\u001b[0m \u001b[0mtimeout\u001b[0m\u001b[0;34m)\u001b[0m\u001b[0;34m:\u001b[0m\u001b[0;34m\u001b[0m\u001b[0;34m\u001b[0m\u001b[0m\n\u001b[0m\u001b[1;32m   1117\u001b[0m                 \u001b[0mlock\u001b[0m\u001b[0;34m.\u001b[0m\u001b[0mrelease\u001b[0m\u001b[0;34m(\u001b[0m\u001b[0;34m)\u001b[0m\u001b[0;34m\u001b[0m\u001b[0;34m\u001b[0m\u001b[0m\n\u001b[1;32m   1118\u001b[0m                 \u001b[0mself\u001b[0m\u001b[0;34m.\u001b[0m\u001b[0m_stop\u001b[0m\u001b[0;34m(\u001b[0m\u001b[0;34m)\u001b[0m\u001b[0;34m\u001b[0m\u001b[0;34m\u001b[0m\u001b[0m\n",
      "\u001b[0;31mKeyboardInterrupt\u001b[0m: "
     ]
    }
   ],
   "source": [
    "import requests\n",
    "import time\n",
    "import threading\n",
    "import logging\n",
    "import yaml\n",
    "\n",
    "def load_config(file_path='config/config.yaml'):\n",
    "    with open(file_path, 'r') as f:\n",
    "        return yaml.safe_load(f)\n",
    "\n",
    "\n",
    "def setup_logging(config):\n",
    "    logging.basicConfig(\n",
    "        level=config['logging']['level'],\n",
    "        filename=config['logging']['file'],\n",
    "        format='%(asctime)s - %(levelname)s - %(message)s'\n",
    "    )\n",
    "\n",
    "API_KEY = \"TEG1R2ZE181XPFZ4\"\n",
    "\n",
    "def get_stock_price(symbol):\n",
    "    url = f\"https://www.alphavantage.co/query?function=TIME_SERIES_INTRADAY&symbol={symbol}&interval=1min&apikey={API_KEY}\"\n",
    "    try:\n",
    "        response = requests.get(url)\n",
    "        response.raise_for_status()\n",
    "        data = response.json()\n",
    "\n",
    "        if \"Time Series (1min)\" in data:\n",
    "            last_timestamp = list(data[\"Time Series (1min)\"])[0]\n",
    "            price = data[\"Time Series (1min)\"][last_timestamp][\"1. open\"]\n",
    "            return price\n",
    "        else:\n",
    "            print(f\"No data available for {symbol}\")\n",
    "            return None\n",
    "\n",
    "    except requests.exceptions.RequestException as e:\n",
    "        print(f\"Error fetching data for {symbol}: {e}\")\n",
    "        return None\n",
    "\n",
    "def stock_monitor(symbol):\n",
    "    while True:\n",
    "        price = get_stock_price(symbol)\n",
    "        if price is not None:\n",
    "            print(f\"Current price of {symbol}: {price}\")\n",
    "        time.sleep(30)  # Actualizar cada 30 segundos\n",
    "\n",
    "if __name__ == \"__main__\":\n",
    "    symbols = [\"AAPL\", \"AMZN\", \"MSFT\", \"META\"]  # Lista de símbolos a monitorear\n",
    "    threads = []\n",
    "\n",
    "    for symbol in symbols:\n",
    "        t = threading.Thread(target=stock_monitor, args=(symbol,))\n",
    "        threads.append(t)\n",
    "        t.start()\n",
    "\n",
    "    for t in threads:\n",
    "        t.join()  # Espera a que todos los hilos terminen\n"
   ]
  },
  {
   "cell_type": "code",
   "execution_count": null,
   "metadata": {
    "id": "QTWqf89joysx"
   },
   "outputs": [],
   "source": [
    "pip install PyYAML\n"
   ]
  }
 ],
 "metadata": {
  "colab": {
   "provenance": []
  },
  "kernelspec": {
   "display_name": "Python 3",
   "name": "python3"
  },
  "language_info": {
   "name": "python"
  }
 },
 "nbformat": 4,
 "nbformat_minor": 0
}
