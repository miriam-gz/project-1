{
 "cells": [
  {
   "cell_type": "code",
   "execution_count": null,
   "metadata": {},
   "outputs": [
    {
     "name": "stderr",
     "output_type": "stream",
     "text": [
      "2024-11-14 22:05:54,148 - INFO - Current price of MSFT: 425.3500\n",
      "2024-11-14 22:05:54,416 - INFO - Current price of AAPL: 224.8800\n",
      "2024-11-14 22:05:54,514 - INFO - Current price of META: 579.8400\n",
      "2024-11-14 22:05:54,573 - INFO - Current price of AMZN: 214.2700\n"
     ]
    }
   ],
   "source": [
    "from open_config import ConfigLoader\n",
    "from logger import LoggerSetup\n",
    "from stock_service import StockService\n",
    "\n",
    "if __name__ == \"__main__\":\n",
    "    config_loader = ConfigLoader()\n",
    "    config = config_loader.config\n",
    "    \n",
    "    LoggerSetup(config)\n",
    "\n",
    "    symbols = config['stocks']['symbols']\n",
    "    stock_service = StockService(config, symbols)\n",
    "    stock_service.start_service()\n",
    "\n"
   ]
  }
 ],
 "metadata": {
  "colab": {
   "provenance": []
  },
  "kernelspec": {
   "display_name": "Python 3",
   "name": "python3"
  },
  "language_info": {
   "codemirror_mode": {
    "name": "ipython",
    "version": 3
   },
   "file_extension": ".py",
   "mimetype": "text/x-python",
   "name": "python",
   "nbconvert_exporter": "python",
   "pygments_lexer": "ipython3",
   "version": "3.10.11"
  }
 },
 "nbformat": 4,
 "nbformat_minor": 0
}
