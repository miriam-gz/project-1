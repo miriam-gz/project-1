{
 "cells": [
  {
   "cell_type": "code",
   "execution_count": null,
   "metadata": {},
   "outputs": [
    {
     "name": "stderr",
     "output_type": "stream",
     "text": [
      "2024-11-04 12:17:18,185 - INFO - Current price of META: 565.5700\n",
      "2024-11-04 12:17:18,435 - INFO - Current price of MSFT: 410.2900\n",
      "2024-11-04 12:17:18,450 - INFO - Current price of AMZN: 197.0900\n",
      "2024-11-04 12:17:18,474 - INFO - Current price of AAPL: 222.6101\n",
      "2024-11-04 12:17:48,868 - INFO - Current price of META: 565.5700\n",
      "2024-11-04 12:17:48,989 - INFO - Current price of AAPL: 222.6101\n",
      "2024-11-04 12:17:48,989 - INFO - Current price of MSFT: 410.2900\n",
      "2024-11-04 12:17:49,174 - INFO - Current price of AMZN: 197.0900\n",
      "2024-11-04 12:18:19,487 - INFO - Current price of AAPL: 222.6101\n",
      "2024-11-04 12:18:19,542 - INFO - Current price of MSFT: 410.2900\n",
      "2024-11-04 12:18:19,581 - INFO - Current price of META: 565.5700\n",
      "2024-11-04 12:18:19,888 - INFO - Current price of AMZN: 197.0900\n",
      "2024-11-04 12:18:50,019 - INFO - Current price of AAPL: 222.6101\n",
      "2024-11-04 12:18:50,230 - INFO - Current price of MSFT: 410.2900\n",
      "2024-11-04 12:18:50,287 - INFO - Current price of META: 565.5700\n",
      "2024-11-04 12:18:50,614 - INFO - Current price of AMZN: 197.0900\n",
      "2024-11-04 12:19:20,780 - INFO - Current price of AAPL: 222.6101\n",
      "2024-11-04 12:19:20,809 - INFO - Current price of MSFT: 410.2900\n",
      "2024-11-04 12:19:21,066 - INFO - Current price of META: 565.5700\n",
      "2024-11-04 12:19:21,295 - INFO - Current price of AMZN: 197.0900\n",
      "2024-11-04 12:19:51,289 - INFO - Current price of AAPL: 222.6101\n",
      "2024-11-04 12:19:51,551 - INFO - Current price of MSFT: 410.2900\n",
      "2024-11-04 12:19:51,744 - INFO - Current price of AMZN: 197.0900\n",
      "2024-11-04 12:19:51,788 - INFO - Current price of META: 565.5700\n",
      "2024-11-04 12:20:21,858 - INFO - Current price of AAPL: 222.6101\n",
      "2024-11-04 12:20:22,014 - INFO - Current price of MSFT: 410.2900\n",
      "2024-11-04 12:20:22,503 - INFO - Current price of AMZN: 197.0900\n",
      "2024-11-04 12:20:22,588 - INFO - Current price of META: 565.5700\n",
      "2024-11-04 12:20:52,315 - WARNING - No data available for MSFT\n",
      "2024-11-04 12:20:52,401 - WARNING - No data available for AAPL\n",
      "2024-11-04 12:20:52,858 - WARNING - No data available for META\n",
      "2024-11-04 12:20:53,008 - WARNING - No data available for AMZN\n"
     ]
    }
   ],
   "source": [
    "from open_config import ConfigLoader\n",
    "from logger import LoggerSetup\n",
    "from stock_service import StockService\n",
    "\n",
    "if __name__ == \"__main__\":\n",
    "    config_loader = ConfigLoader()\n",
    "    config = config_loader.config\n",
    "    \n",
    "    LoggerSetup(config)\n",
    "\n",
    "    symbols = config['stocks']['symbols']\n",
    "    stock_service = StockService(config, symbols)\n",
    "    stock_service.start_service()\n",
    "\n"
   ]
  }
 ],
 "metadata": {
  "colab": {
   "provenance": []
  },
  "kernelspec": {
   "display_name": "Python 3",
   "name": "python3"
  },
  "language_info": {
   "codemirror_mode": {
    "name": "ipython",
    "version": 3
   },
   "file_extension": ".py",
   "mimetype": "text/x-python",
   "name": "python",
   "nbconvert_exporter": "python",
   "pygments_lexer": "ipython3",
   "version": "3.10.11"
  }
 },
 "nbformat": 4,
 "nbformat_minor": 0
}
