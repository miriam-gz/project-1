{
 "cells": [
  {
   "cell_type": "code",
   "execution_count": null,
   "metadata": {},
   "outputs": [
    {
     "name": "stderr",
     "output_type": "stream",
     "text": [
      "2024-11-13 11:56:27,961 - INFO - Current price of AAPL: 224.0600\n",
      "2024-11-13 11:56:27,977 - INFO - Current price of META: 582.5600\n",
      "2024-11-13 11:56:27,993 - INFO - Current price of AMZN: 208.9800\n",
      "2024-11-13 11:56:28,295 - INFO - Current price of MSFT: 423.1500\n",
      "2024-11-13 11:56:58,536 - INFO - Current price of AAPL: 224.0600\n",
      "2024-11-13 11:56:58,561 - INFO - Current price of META: 582.5600\n",
      "2024-11-13 11:56:58,667 - INFO - Current price of AMZN: 208.9800\n",
      "2024-11-13 11:56:58,790 - INFO - Current price of MSFT: 423.1500\n"
     ]
    }
   ],
   "source": [
    "from open_config import ConfigLoader\n",
    "from logger import LoggerSetup\n",
    "from stock_service import StockService\n",
    "\n",
    "if __name__ == \"__main__\":\n",
    "    config_loader = ConfigLoader()\n",
    "    config = config_loader.config\n",
    "    \n",
    "    LoggerSetup(config)\n",
    "\n",
    "    symbols = config['stocks']['symbols']\n",
    "    stock_service = StockService(config, symbols)\n",
    "    stock_service.start_service()\n",
    "\n"
   ]
  }
 ],
 "metadata": {
  "colab": {
   "provenance": []
  },
  "kernelspec": {
   "display_name": "Python 3",
   "name": "python3"
  },
  "language_info": {
   "codemirror_mode": {
    "name": "ipython",
    "version": 3
   },
   "file_extension": ".py",
   "mimetype": "text/x-python",
   "name": "python",
   "nbconvert_exporter": "python",
   "pygments_lexer": "ipython3",
   "version": "3.10.11"
  }
 },
 "nbformat": 4,
 "nbformat_minor": 0
}
